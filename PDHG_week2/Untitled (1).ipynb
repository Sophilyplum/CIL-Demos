{
 "cells": [
  {
   "cell_type": "markdown",
   "id": "b72f4db9-99b2-480a-9d4d-4f928167ec1b",
   "metadata": {},
   "source": [
    "<!-- background: #fff4e3 -->\n",
    "<!-- color: #2d2422 -->"
   ]
  },
  {
   "cell_type": "markdown",
   "id": "26c4c1c9-537a-427d-8e6d-09bd161d199a",
   "metadata": {},
   "source": [
    "# Define Projection Operator (from Astra-Toolbox)\n",
    "\n",
    "**Note:** An alternative option is to use the TIGRE projection opearator:\n",
    "\n",
    "\n",
    "\n",
    "<div class=\"alert alert-success\">\n",
    "    \n",
    "\n",
    "    \n",
    "```python\n",
    "    \n",
    "    from cil.plugins.tigre import ProjectionOperator as TigreOp  \n",
    "    \n",
    "    A = TigreOp(ig, ag) \n",
    "    \n",
    "    \n",
    "```    \n",
    "    \n",
    "    \n",
    "    \n",
    "</div>        \n",
    "\n",
    "\n",
    "\n",
    "\n",
    "   "
   ]
  },
  {
   "cell_type": "code",
   "execution_count": null,
   "id": "5a22821e-74e8-47f6-926e-392b78f661a7",
   "metadata": {},
   "outputs": [],
   "source": []
  }
 ],
 "metadata": {
  "kernelspec": {
   "display_name": "Python [conda env:cil2_demos]",
   "language": "python",
   "name": "conda-env-cil2_demos-py"
  },
  "language_info": {
   "codemirror_mode": {
    "name": "ipython",
    "version": 3
   },
   "file_extension": ".py",
   "mimetype": "text/x-python",
   "name": "python",
   "nbconvert_exporter": "python",
   "pygments_lexer": "ipython3",
   "version": "3.8.8"
  }
 },
 "nbformat": 4,
 "nbformat_minor": 5
}
