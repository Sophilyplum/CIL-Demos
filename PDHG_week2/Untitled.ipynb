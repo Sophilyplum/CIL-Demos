{
 "cells": [
  {
   "cell_type": "markdown",
   "id": "3e267e29-fb7d-42a2-944b-9a633cc2812f",
   "metadata": {},
   "source": [
    "# Define Projection Operator (from Astra-Toolbox)\n",
    "\n",
    "**Note:** An alternative option is to use the TIGRE projection opearator:\n",
    "\n",
    "\n",
    "\n",
    "<div class=\"alert alert-block\" \n",
    "     style=\"background-color: green; \n",
    "            width: 600px;margin: auto\">\n",
    "\n",
    "    \n",
    "```python\n",
    "\n",
    "    from cil.plugins.tigre import ProjectionOperator as TigreOp\n",
    "    \n",
    "    A = TigreOp(ig, ag)\n",
    "            \n",
    "```\n",
    "</div>    \n",
    "\n",
    "<br></br>\n",
    "   "
   ]
  },
  {
   "cell_type": "code",
   "execution_count": null,
   "id": "d3c6e228-7aae-4011-8dc6-2e7dd741f8bf",
   "metadata": {},
   "outputs": [],
   "source": []
  }
 ],
 "metadata": {
  "kernelspec": {
   "display_name": "Python [conda env:cil2_demos]",
   "language": "python",
   "name": "conda-env-cil2_demos-py"
  },
  "language_info": {
   "codemirror_mode": {
    "name": "ipython",
    "version": 3
   },
   "file_extension": ".py",
   "mimetype": "text/x-python",
   "name": "python",
   "nbconvert_exporter": "python",
   "pygments_lexer": "ipython3",
   "version": "3.8.8"
  }
 },
 "nbformat": 4,
 "nbformat_minor": 5
}
