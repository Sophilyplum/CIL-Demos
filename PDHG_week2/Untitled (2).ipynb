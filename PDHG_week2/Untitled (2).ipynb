{
 "cells": [
  {
   "cell_type": "markdown",
   "id": "b72f4db9-99b2-480a-9d4d-4f928167ec1b",
   "metadata": {},
   "source": [
    "<!-- background: #fff4e3 -->\n",
    "<!-- color: #2d2422 -->"
   ]
  },
  {
   "cell_type": "markdown",
   "id": "26c4c1c9-537a-427d-8e6d-09bd161d199a",
   "metadata": {},
   "source": [
    "# Define Projection Operator (from Astra-Toolbox)\n",
    "\n",
    "**Note:** An alternative option is to use the TIGRE projection opearator:\n",
    "\n",
    "\n",
    "\n",
    "<div class=\"alert alert-success\">\n",
    "    \n",
    "\n",
    "    \n",
    "```python\n",
    "    \n",
    "    from cil.plugins.tigre import ProjectionOperator as TigreOp  \n",
    "    \n",
    "    A = TigreOp(ig, ag) \n",
    "    \n",
    "    \n",
    "```    \n",
    "    \n",
    "    \n",
    "    \n",
    "</div>        \n",
    "\n",
    "\n",
    "\n",
    "\n",
    "   "
   ]
  },
  {
   "cell_type": "markdown",
   "id": "c323e2a8-7700-4079-9aa2-4fef803b4949",
   "metadata": {},
   "source": [
    "<div className=\"one\">\n",
    "\n",
    "* one\n",
    "* two\n",
    "\n",
    "</div>"
   ]
  },
  {
   "cell_type": "markdown",
   "id": "94d74db9-b28c-42fc-bdac-aa154041418f",
   "metadata": {},
   "source": [
    "# Define Projection Operator (from Astra-Toolbox)\n",
    "\n",
    "**Note:** An alternative option is to use the TIGRE projection opearator:\n",
    "\n",
    "<div class=\"alert alert-block\" \n",
    "     style=\"background-color: green; \n",
    "            width: 600px;margin: auto\">\n",
    "    \n",
    "\n",
    "```python\n",
    "\n",
    "    from cil.plugins.tigre import ProjectionOperator as TigreOp\n",
    "    \n",
    "    A = TigreOp(ig, ag)\n",
    "            \n",
    "```\n",
    "\n",
    "</div>\n",
    "<br></br>"
   ]
  },
  {
   "cell_type": "markdown",
   "id": "bcb3a9f5-595a-41f1-af3a-9f8593a7a872",
   "metadata": {},
   "source": [
    "<div class=\"alert alert-block alert-success\">\n",
    "<b>Success:</b> This alert box indicates a successful or positive action.\n",
    "</div>"
   ]
  },
  {
   "cell_type": "code",
   "execution_count": null,
   "id": "aafed7c3-6355-4340-ba68-0060dedabb49",
   "metadata": {},
   "outputs": [],
   "source": []
  }
 ],
 "metadata": {
  "kernelspec": {
   "display_name": "Python [conda env:cil2_demos]",
   "language": "python",
   "name": "conda-env-cil2_demos-py"
  },
  "language_info": {
   "codemirror_mode": {
    "name": "ipython",
    "version": 3
   },
   "file_extension": ".py",
   "mimetype": "text/x-python",
   "name": "python",
   "nbconvert_exporter": "python",
   "pygments_lexer": "ipython3",
   "version": "3.8.8"
  }
 },
 "nbformat": 4,
 "nbformat_minor": 5
}
