# Define Projection Operator (from Astra-Toolbox)

**Note:** An alternative option is to use the TIGRE projection opearator:



<div class="alert alert-success">
    

    
```python
    
    from cil.plugins.tigre import ProjectionOperator as TigreOp  
    
    A = TigreOp(ig, ag) 
    
    
```    
    
    
    
</div>        




   
