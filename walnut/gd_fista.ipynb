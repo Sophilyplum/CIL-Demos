{
 "cells": [
  {
   "cell_type": "markdown",
   "metadata": {},
   "source": [
    "# Steel-wire data reconstruction demo\n",
    "\n",
    "Reproduce all steel-wire data figures.\n",
    "\n",
    "Tested with CIL version 21.0.0 on Linux."
   ]
  },
  {
   "cell_type": "code",
   "execution_count": null,
   "metadata": {},
   "outputs": [],
   "source": [
    "# Import all CIL components needed\n",
    "from cil.framework import ImageData, ImageGeometry\n",
    "from cil.framework import AcquisitionGeometry, AcquisitionData\n",
    "from cil.framework import BlockDataContainer\n",
    "\n",
    "from cil.optimisation.algorithms import CGLS, GD, FISTA, PDHG\n",
    "from cil.optimisation.operators import BlockOperator, GradientOperator, IdentityOperator, \\\n",
    "                                       GradientOperator, FiniteDifferenceOperator\n",
    "from cil.optimisation.functions import IndicatorBox, MixedL21Norm, L2NormSquared, \\\n",
    "                                       BlockFunction, L1Norm, LeastSquares, \\\n",
    "                                       OperatorCompositionFunction, TotalVariation, \\\n",
    "                                       ZeroFunction\n",
    "\n",
    "# CIL Processors\n",
    "from cil.processors import CentreOfRotationCorrector, Slicer, TransmissionAbsorptionConverter\n",
    "\n",
    "from cil.utilities.display import show2D\n",
    "\n",
    "# Import from cil.plugins.astra\n",
    "from cil.plugins.astra.processors import FBP, AstraBackProjector3D\n",
    "from cil.plugins.astra.operators import ProjectionOperator, AstraProjector3DSimple\n",
    "\n",
    "# All external imports\n",
    "import numpy as np\n",
    "import matplotlib.pyplot as plt\n",
    "import os\n",
    "import sys\n",
    "import scipy"
   ]
  },
  {
   "cell_type": "markdown",
   "metadata": {},
   "source": [
    "Load demo data set and display the first raw projection"
   ]
  },
  {
   "cell_type": "code",
   "execution_count": null,
   "metadata": {},
   "outputs": [],
   "source": [
    "from cil.utilities.dataexample import SYNCHROTRON_PARALLEL_BEAM_DATA\n",
    "data_sync = SYNCHROTRON_PARALLEL_BEAM_DATA.get()\n",
    "\n",
    "scale = data_sync.get_slice(vertical=20).mean()\n",
    "data_sync = data_sync/scale\n",
    "\n",
    "data_sync = TransmissionAbsorptionConverter()(data_sync)\n",
    "\n",
    "data_sync = CentreOfRotationCorrector.xcorrelation(slice_index='centre')(data_sync)\n",
    "\n",
    "data90 = Slicer(roi={'angle':(0,90), \n",
    "                     'horizontal':(20,140,1)})(data_sync)\n",
    "\n",
    "data90.reorder(order='astra')\n",
    "\n",
    "ag90 = data90.geometry\n",
    "ig = ag90.get_ImageGeometry()\n",
    "\n",
    "recon90 = FBP(ig, ag, device='gpu')(data90)\n",
    "\n",
    "sx = 44\n",
    "sz = 103\n",
    "ca1 = -0.01\n",
    "ca2 =  0.11\n",
    "\n",
    "show2D(recon90.get_slice(horizontal_x=sx), cmap='inferno', fix_range=(ca1,ca2), origin='upper-left')\n",
    "show2D(recon90.get_slice(vertical=sz)   , cmap='inferno', fix_range=(ca1,ca2), origin='upper-left')\n",
    "\n",
    "data15 = Slicer(roi={'angle': (0,90,6)})(data90)\n",
    "\n",
    "ag = data15.geometry\n",
    "\n",
    "recon15 = FBP(ig, ag, device='gpu')(data15)\n",
    "\n",
    "show2D(recon15.get_slice(horizontal_x=sx), cmap='inferno', fix_range=(ca1,ca2), origin='upper-left')\n",
    "show2D(recon15.get_slice(vertical=sz)   , cmap='inferno', fix_range=(ca1,ca2), origin='upper-left')"
   ]
  },
  {
   "cell_type": "code",
   "execution_count": null,
   "metadata": {},
   "outputs": [],
   "source": [
    "A = ProjectionOperator(ig, ag)"
   ]
  },
  {
   "cell_type": "code",
   "execution_count": null,
   "metadata": {},
   "outputs": [],
   "source": [
    "x0 = ig.allocate(0.0)\n",
    "b = data15"
   ]
  },
  {
   "cell_type": "code",
   "execution_count": null,
   "metadata": {},
   "outputs": [],
   "source": [
    "myCGLS = CGLS(x_init=x0, operator=A, data=b, max_iteration=1000)\n",
    "\n",
    "myCGLS.run(2,verbose=True)\n",
    "\n",
    "show2D(myCGLS.solution.get_slice(horizontal_x=sx), cmap='inferno', fix_range=(ca1,ca2), origin='upper-left')\n",
    "show2D(myCGLS.solution.get_slice(vertical=sz)    , cmap='inferno', fix_range=(ca1,ca2), origin='upper-left')"
   ]
  },
  {
   "cell_type": "code",
   "execution_count": null,
   "metadata": {},
   "outputs": [],
   "source": [
    "myCGLS.run(18,verbose=1)\n",
    "\n",
    "show2D(myCGLS.solution.get_slice(horizontal_x=sx),cmap='inferno',fix_range=(ca1,ca2),origin='upper-left')\n",
    "show2D(myCGLS.solution.get_slice(vertical=sz),cmap='inferno',fix_range=(ca1,ca2),origin='upper-left')"
   ]
  },
  {
   "cell_type": "code",
   "execution_count": null,
   "metadata": {},
   "outputs": [],
   "source": [
    "myCGLS.run(180,verbose=True)\n",
    "\n",
    "show2D(myCGLS.solution.get_slice(horizontal_x=sx),cmap='inferno',fix_range=(ca1,ca2),origin='upper-left')\n",
    "show2D(myCGLS.solution.get_slice(vertical=sz),cmap='inferno',fix_range=(ca1,ca2),origin='upper-left')"
   ]
  },
  {
   "cell_type": "code",
   "execution_count": null,
   "metadata": {},
   "outputs": [],
   "source": [
    "myCGLS.run(500,verbose=True)\n",
    "show2D(myCGLS.solution.get_slice(horizontal_x=sx),cmap='inferno',fix_range=(ca1,ca2),origin='upper-left')\n",
    "show2D(myCGLS.solution.get_slice(vertical=sz),cmap='inferno',fix_range=(ca1,ca2),origin='upper-left')"
   ]
  },
  {
   "cell_type": "code",
   "execution_count": null,
   "metadata": {},
   "outputs": [],
   "source": [
    "plt.loglog(myCGLS.objective)"
   ]
  },
  {
   "cell_type": "code",
   "execution_count": null,
   "metadata": {},
   "outputs": [],
   "source": [
    "f1 = 0.5*LeastSquares(A, b)\n",
    "\n",
    "myGD_LS = GD(x_init=x0, objective_function=f1, step_size=None, max_iteration=100000, update_objective_interval = 10)\n",
    "myGD_LS.run(3000, verbose=1)"
   ]
  },
  {
   "cell_type": "code",
   "execution_count": null,
   "metadata": {},
   "outputs": [],
   "source": [
    "plt.loglog(myCGLS.iterations, myCGLS.objective)\n",
    "plt.loglog(myGD_LS.objective)\n",
    "len(myCGLS.objective)"
   ]
  },
  {
   "cell_type": "code",
   "execution_count": null,
   "metadata": {},
   "outputs": [],
   "source": [
    "f1 = LeastSquares(A, b)\n",
    "\n",
    "D = GradientOperator(ig)\n",
    "alpha = 1.0\n",
    "f2 = OperatorCompositionFunction(L2NormSquared(),D)\n",
    "f = f1 + (alpha**2)*f2\n",
    "\n",
    "myGD = GD(x_init=x0, objective_function=f, step_size=None, max_iteration=1000, update_objective_interval = 10)\n",
    "myGD.run(1000, verbose=1)"
   ]
  },
  {
   "cell_type": "code",
   "execution_count": null,
   "metadata": {},
   "outputs": [],
   "source": [
    "plt.figure()\n",
    "show2D(myGD.solution.get_slice(horizontal_x=sx),cmap='inferno',fix_range=(ca1,ca2),origin='upper-left')\n",
    "plt.figure()\n",
    "show2D(myGD.solution.get_slice(vertical=sz),cmap='inferno',fix_range=(ca1,ca2),origin='upper-left')"
   ]
  },
  {
   "cell_type": "code",
   "execution_count": null,
   "metadata": {},
   "outputs": [],
   "source": [
    "F = LeastSquares(A, b)\n",
    "G = IndicatorBox(lower=0.0)\n",
    "myFISTANN = FISTA(f=F, g=G, x_init=x0, max_iteration=1000)\n",
    "myFISTANN.run(300, verbose=1)"
   ]
  },
  {
   "cell_type": "code",
   "execution_count": null,
   "metadata": {},
   "outputs": [],
   "source": [
    "plt.figure()\n",
    "show2D(myFISTANN.solution.get_slice(horizontal_x=sx),cmap='inferno',fix_range=(ca1,ca2),origin='upper-left')\n",
    "plt.figure()\n",
    "show2D(myFISTANN.solution.get_slice(vertical=sz),cmap='inferno',fix_range=(ca1,ca2),origin='upper-left')"
   ]
  },
  {
   "cell_type": "code",
   "execution_count": null,
   "metadata": {},
   "outputs": [],
   "source": [
    "a1 = 30\n",
    "G = a1*L1Norm()\n",
    "\n",
    "myFISTAL1 = FISTA(f=F, g=G, x_init=x0, max_iteration=1000, update_objective_interval=10)"
   ]
  },
  {
   "cell_type": "code",
   "execution_count": null,
   "metadata": {},
   "outputs": [],
   "source": [
    "myFISTAL1.run(300,verbose=1)"
   ]
  },
  {
   "cell_type": "code",
   "execution_count": null,
   "metadata": {},
   "outputs": [],
   "source": [
    "plt.figure()\n",
    "show2D(myFISTAL1.solution.get_slice(horizontal_x=sx),cmap='inferno',fix_range=(ca1,ca2),origin='upper-left')\n",
    "plt.figure()\n",
    "show2D(myFISTAL1.solution.get_slice(vertical=sz),cmap='inferno',fix_range=(ca1,ca2),origin='upper-left')"
   ]
  },
  {
   "cell_type": "code",
   "execution_count": null,
   "metadata": {},
   "outputs": [],
   "source": [
    "GTV = 0.02*TotalVariation()"
   ]
  },
  {
   "cell_type": "code",
   "execution_count": null,
   "metadata": {},
   "outputs": [],
   "source": [
    "myFISTATV = FISTA(f=F, g=GTV, x_init=x0 ,max_iteration=1000)"
   ]
  },
  {
   "cell_type": "code",
   "execution_count": null,
   "metadata": {},
   "outputs": [],
   "source": [
    "myFISTATV.run(2,verbose=1)"
   ]
  },
  {
   "cell_type": "code",
   "execution_count": null,
   "metadata": {},
   "outputs": [],
   "source": [
    "plt.figure()\n",
    "show2D(myFISTATV.solution.get_slice(horizontal_x=sx),cmap='inferno',fix_range=(ca1,ca2),origin='upper-left')\n",
    "plt.figure()\n",
    "show2D(myFISTATV.solution.get_slice(vertical=sz),cmap='inferno',fix_range=(ca1,ca2),origin='upper-left')"
   ]
  },
  {
   "cell_type": "code",
   "execution_count": null,
   "metadata": {},
   "outputs": [],
   "source": [
    "alpha = 0.02\n",
    "F = BlockFunction(L2NormSquared(b=b), alpha*MixedL21Norm())\n",
    "K = BlockOperator(A, GradientOperator(ig))\n",
    "G = ZeroFunction()\n",
    "myPDHG = PDHG(f=F, g=G, operator=K, max_iteration=10000)"
   ]
  },
  {
   "cell_type": "code",
   "execution_count": null,
   "metadata": {},
   "outputs": [],
   "source": [
    "myPDHG.run(5000,verbose=2)"
   ]
  },
  {
   "cell_type": "code",
   "execution_count": null,
   "metadata": {},
   "outputs": [],
   "source": [
    "plt.figure()\n",
    "show2D(myPDHG.solution.get_slice(horizontal_x=sx),cmap='inferno',fix_range=(ca1,ca2),origin='upper-left')\n",
    "plt.figure()\n",
    "show2D(myPDHG.solution.get_slice(vertical=sz),cmap='inferno',fix_range=(ca1,ca2),origin='upper-left')"
   ]
  },
  {
   "cell_type": "code",
   "execution_count": null,
   "metadata": {},
   "outputs": [],
   "source": [
    "plt.figure()\n",
    "plt.loglog(np.arange(1,len(myFISTATV.objective)),  myFISTATV.objective[1:])\n",
    "plt.loglog(np.arange(1,len(myPDHG.objective)),myPDHG.objective[1:])\n",
    "plt.loglog(np.arange(1,len(myPDHG.objective)),myPDHG.dual_objective[1:])\n",
    "plt.loglog(np.arange(1,len(myPDHG.objective)),np.array(myPDHG.objective[1:])-np.array(myPDHG.dual_objective[1:]))\n",
    "plt.ylim((1e0,1e5))\n",
    "plt.legend(['FISTA','PDHG primal','PDHG dual','PDHG gap'])\n",
    "plt.grid()\n",
    "plt.xlabel('Number of iterations')\n",
    "plt.ylabel('Objective value')"
   ]
  },
  {
   "cell_type": "code",
   "execution_count": null,
   "metadata": {},
   "outputs": [],
   "source": []
  }
 ],
 "metadata": {
  "kernelspec": {
   "display_name": "Python [conda env:ciljj21dev]",
   "language": "python",
   "name": "conda-env-ciljj21dev-py"
  },
  "language_info": {
   "codemirror_mode": {
    "name": "ipython",
    "version": 3
   },
   "file_extension": ".py",
   "mimetype": "text/x-python",
   "name": "python",
   "nbconvert_exporter": "python",
   "pygments_lexer": "ipython3",
   "version": "3.7.9"
  }
 },
 "nbformat": 4,
 "nbformat_minor": 4
}
