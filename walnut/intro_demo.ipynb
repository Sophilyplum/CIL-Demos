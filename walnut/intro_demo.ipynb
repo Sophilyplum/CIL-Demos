{
 "cells": [
  {
   "cell_type": "markdown",
   "id": "hollywood-december",
   "metadata": {},
   "source": [
    "# Introductory demo of Core Imaging Library (CIL) \n",
    "\n",
    "### First 3D cone-beam data of walnut, then 3D parallel-beam data of steel wire"
   ]
  },
  {
   "cell_type": "markdown",
   "id": "cardiac-console",
   "metadata": {},
   "source": [
    "First import all modules we will need:"
   ]
  },
  {
   "cell_type": "code",
   "execution_count": null,
   "id": "innocent-england",
   "metadata": {},
   "outputs": [],
   "source": [
    "import numpy as np\n",
    "import os\n",
    "\n",
    "from cil.io import TXRMDataReader\n",
    "from cil.processors import TransmissionAbsorptionConverter\n",
    "from cil.plugins.astra import FBP\n",
    "from cil.utilities.display import show2D\n",
    "\n",
    "from cil.processors import CentreOfRotationCorrector, Slicer\n",
    "from cil.io import TIFFWriter"
   ]
  },
  {
   "cell_type": "markdown",
   "id": "english-gabriel",
   "metadata": {},
   "source": [
    "## Walnut, cone-beam case\n",
    "Load the 3D cone-beam projection data of a walnut:"
   ]
  },
  {
   "cell_type": "code",
   "execution_count": null,
   "id": "pharmaceutical-shell",
   "metadata": {},
   "outputs": [],
   "source": [
    "filename = \"/media/newhd/shared/Data/zeiss/walnut/valnut/valnut_2014-03-21_643_28/tomo-A/valnut_tomo-A.txrm\"\n",
    "data = TXRMDataReader(file_name=filename).read()"
   ]
  },
  {
   "cell_type": "markdown",
   "id": "comprehensive-cooperative",
   "metadata": {},
   "source": [
    "We can call print for the data to get some basic information:"
   ]
  },
  {
   "cell_type": "code",
   "execution_count": null,
   "id": "determined-india",
   "metadata": {},
   "outputs": [],
   "source": [
    "print(data)"
   ]
  },
  {
   "cell_type": "markdown",
   "id": "prerequisite-waterproof",
   "metadata": {},
   "source": [
    "Note how labels refer to the different dimensions. We can use labels to extract and display 2D slices of data, such as a single projection:"
   ]
  },
  {
   "cell_type": "code",
   "execution_count": null,
   "id": "afraid-fifty",
   "metadata": {},
   "outputs": [],
   "source": [
    "show2D(data, slice_list=('angle',800))"
   ]
  },
  {
   "cell_type": "markdown",
   "id": "changing-little",
   "metadata": {},
   "source": [
    "From the background value of 1.0 we infer that the data is transmission data (it is known to be already centered and flat field corrected) so we just need to convert to absorption/apply the negative logarithm, which can be done using a CIL processor, which will handle small/large outliers:"
   ]
  },
  {
   "cell_type": "code",
   "execution_count": null,
   "id": "detailed-exhibition",
   "metadata": {},
   "outputs": [],
   "source": [
    "data = TransmissionAbsorptionConverter()(data)"
   ]
  },
  {
   "cell_type": "markdown",
   "id": "mathematical-amplifier",
   "metadata": {},
   "source": [
    "We again take a look at a slice of the data, now a vertical one to see the central slice sinogram after negative logarithm:"
   ]
  },
  {
   "cell_type": "code",
   "execution_count": null,
   "id": "incoming-audio",
   "metadata": {},
   "outputs": [],
   "source": [
    "show2D(data, slice_list=('vertical',512))"
   ]
  },
  {
   "cell_type": "markdown",
   "id": "qualified-yellow",
   "metadata": {},
   "source": [
    "CIL supports different back-ends for which data order conventions may differ. Here we use the FBP algorithm from the ASTRA Toolbox, which requires us to permute the data array into the right order:"
   ]
  },
  {
   "cell_type": "code",
   "execution_count": null,
   "id": "serious-multimedia",
   "metadata": {},
   "outputs": [],
   "source": [
    "data.reorder(order='astra')"
   ]
  },
  {
   "cell_type": "markdown",
   "id": "offshore-sensitivity",
   "metadata": {},
   "source": [
    "The data is now ready for reconstruction. To set up the FBP algorithm we must specify the size/geometry of the reconstruction volume. Here we use the default one:"
   ]
  },
  {
   "cell_type": "code",
   "execution_count": null,
   "id": "second-dryer",
   "metadata": {},
   "outputs": [],
   "source": [
    "ig = data.geometry.get_ImageGeometry()"
   ]
  },
  {
   "cell_type": "markdown",
   "id": "satellite-westminster",
   "metadata": {},
   "source": [
    "We can then create the FBP algorithm (really FDK since 3D cone-beam) from ASTRA running on the GPU and reconstruct the data:"
   ]
  },
  {
   "cell_type": "code",
   "execution_count": null,
   "id": "favorite-credits",
   "metadata": {},
   "outputs": [],
   "source": [
    "fbp =  FBP(ig, data.geometry, \"gpu\")\n",
    "recon = fbp(data)"
   ]
  },
  {
   "cell_type": "markdown",
   "id": "impaired-warrant",
   "metadata": {},
   "source": [
    "We show the central (vertical) slice:"
   ]
  },
  {
   "cell_type": "code",
   "execution_count": null,
   "id": "palestinian-armor",
   "metadata": {},
   "outputs": [],
   "source": [
    "show2D(recon, slice_list=('vertical',512), fix_range=(-0.01,0.06))"
   ]
  },
  {
   "cell_type": "markdown",
   "id": "eastern-exception",
   "metadata": {},
   "source": [
    "And a horizontal (horizontal_x) slice as well:"
   ]
  },
  {
   "cell_type": "code",
   "execution_count": null,
   "id": "virgin-driver",
   "metadata": {},
   "outputs": [],
   "source": [
    "show2D(recon, slice_list=('horizontal_x',512), fix_range=(-0.01,0.06))"
   ]
  },
  {
   "cell_type": "markdown",
   "id": "funky-unemployment",
   "metadata": {},
   "source": [
    "We can save the reconstructed volume to disk for example as a stack of TIFFs:"
   ]
  },
  {
   "cell_type": "code",
   "execution_count": null,
   "id": "green-indiana",
   "metadata": {},
   "outputs": [],
   "source": [
    "TIFFWriter(data=recon, file_name=\"/media/newhd/shared/Data/out\").write()"
   ]
  },
  {
   "cell_type": "markdown",
   "id": "verified-hydrogen",
   "metadata": {},
   "source": [
    "## Steel-wire, parallel-beam case\n",
    "\n",
    "The steel-wire data set is included in CIL as a demonstration data set that can be loaded by:"
   ]
  },
  {
   "cell_type": "code",
   "execution_count": null,
   "id": "moved-stable",
   "metadata": {},
   "outputs": [],
   "source": [
    "from cil.utilities.dataexample import SYNCHROTRON_PARALLEL_BEAM_DATA\n",
    "data_sync = SYNCHROTRON_PARALLEL_BEAM_DATA.get()"
   ]
  },
  {
   "cell_type": "markdown",
   "id": "liked-continuity",
   "metadata": {},
   "source": [
    "We take a look at the data with \"print\":"
   ]
  },
  {
   "cell_type": "code",
   "execution_count": null,
   "id": "marine-consultancy",
   "metadata": {},
   "outputs": [],
   "source": [
    "print(data_sync)"
   ]
  },
  {
   "cell_type": "markdown",
   "id": "greek-patrol",
   "metadata": {},
   "source": [
    "And show the first projection:"
   ]
  },
  {
   "cell_type": "code",
   "execution_count": null,
   "id": "beneficial-rogers",
   "metadata": {},
   "outputs": [],
   "source": [
    "show2D(data_sync.get_slice(angle=0), origin='upper-left')"
   ]
  },
  {
   "cell_type": "markdown",
   "id": "color-moore",
   "metadata": {},
   "source": [
    "White background indicates transmission data, but value is not 1.0 as expected for air. Not sure why that is, but we can correct this by normalising with the background value estimated over some region, here we extract a single line and compute its mean:"
   ]
  },
  {
   "cell_type": "code",
   "execution_count": null,
   "id": "romantic-painting",
   "metadata": {},
   "outputs": [],
   "source": [
    "scale = data_sync.get_slice(vertical=20).mean()\n",
    "print(scale)\n",
    "data_sync = data_sync/scale"
   ]
  },
  {
   "cell_type": "markdown",
   "id": "binding-aluminum",
   "metadata": {},
   "source": [
    "As before we convert to absorption (take negative log)"
   ]
  },
  {
   "cell_type": "code",
   "execution_count": null,
   "id": "signal-batch",
   "metadata": {},
   "outputs": [],
   "source": [
    "data_sync = TransmissionAbsorptionConverter()(data_sync)"
   ]
  },
  {
   "cell_type": "markdown",
   "id": "seasonal-weight",
   "metadata": {},
   "source": [
    "This data set is NOT corrected for centre-of-rotation offset. We can do this using the CIL Processor CentreOfRotationCorrector, here with a simple cross-correlation method on the central slice:"
   ]
  },
  {
   "cell_type": "code",
   "execution_count": null,
   "id": "underlying-gnome",
   "metadata": {},
   "outputs": [],
   "source": [
    "data_sync = CentreOfRotationCorrector.xcorrelation(slice_index='centre')(data_sync)"
   ]
  },
  {
   "cell_type": "markdown",
   "id": "acquired-associate",
   "metadata": {},
   "source": [
    "The data contains a redundant projection at 180 degrees, which can be discarded by keeping only the 90 angles. At the same time air on both sides can be cropped off by keeping only horizontal pixels from 20 to 140 out of 160. This is done using the Slicer Processor and the trimmed data is printed, showing the horizontal dimension now reduced to 120:"
   ]
  },
  {
   "cell_type": "code",
   "execution_count": null,
   "id": "industrial-clark",
   "metadata": {},
   "outputs": [],
   "source": [
    "data90 = Slicer(roi={'angle':(0,90), \n",
    "                     'horizontal':(20,140,1)})(data_sync)\n",
    "\n",
    "print(data90)"
   ]
  },
  {
   "cell_type": "markdown",
   "id": "interpreted-december",
   "metadata": {},
   "source": [
    "We show one of the cropped, centered and negative-log transformed projections:"
   ]
  },
  {
   "cell_type": "code",
   "execution_count": null,
   "id": "serial-maximum",
   "metadata": {},
   "outputs": [],
   "source": [
    "show2D(data90.subset(angle=0), origin='upper-left')"
   ]
  },
  {
   "cell_type": "markdown",
   "id": "medical-announcement",
   "metadata": {},
   "source": [
    "And the sinogram for a selected slice:"
   ]
  },
  {
   "cell_type": "code",
   "execution_count": null,
   "id": "ancient-trainer",
   "metadata": {},
   "outputs": [],
   "source": [
    "show2D(data90.subset(vertical=103), origin='upper-left')"
   ]
  },
  {
   "cell_type": "markdown",
   "id": "acquired-catholic",
   "metadata": {},
   "source": [
    "Again we must reorder before we can use the ASTRA back-end:"
   ]
  },
  {
   "cell_type": "code",
   "execution_count": null,
   "id": "behavioral-poultry",
   "metadata": {},
   "outputs": [],
   "source": [
    "data90.reorder(order='astra')"
   ]
  },
  {
   "cell_type": "markdown",
   "id": "applicable-danger",
   "metadata": {},
   "source": [
    "Then we set up and run the FBP algorithm from the acquisition and default image geometry. For a 3D data set like this, a 2D FBP is run slice by slice:"
   ]
  },
  {
   "cell_type": "code",
   "execution_count": null,
   "id": "naughty-object",
   "metadata": {},
   "outputs": [],
   "source": [
    "ag = data90.geometry\n",
    "ig = ag.get_ImageGeometry()\n",
    "\n",
    "recon90 = FBP(ig, ag, device='gpu')(data90)"
   ]
  },
  {
   "cell_type": "markdown",
   "id": "optical-january",
   "metadata": {},
   "source": [
    "We show a horizontal and a vertical slice of the reconstructed volume:"
   ]
  },
  {
   "cell_type": "code",
   "execution_count": null,
   "id": "loved-amplifier",
   "metadata": {},
   "outputs": [],
   "source": [
    "show2D(recon90.get_slice(horizontal_x=44), cmap='inferno', fix_range=(-0.01,0.11), origin='upper-left')\n",
    "show2D(recon90.get_slice(vertical=103)   , cmap='inferno', fix_range=(-0.01,0.11), origin='upper-left')"
   ]
  },
  {
   "cell_type": "markdown",
   "id": "industrial-necessity",
   "metadata": {},
   "source": [
    "It is illustrative to look quickly at reconstruction from reduced data, such as fewer projections. Here we simulate having only 15 projections by throwing away all but every sixth projection using a Slicer Processor. We print and note that there are only 15 angles now:"
   ]
  },
  {
   "cell_type": "code",
   "execution_count": null,
   "id": "partial-influence",
   "metadata": {},
   "outputs": [],
   "source": [
    "data15 = Slicer(roi={'angle': (0,90,6)})(data90)\n",
    "print(data15)"
   ]
  },
  {
   "cell_type": "markdown",
   "id": "floppy-masters",
   "metadata": {},
   "source": [
    "As before we set up and run FBP reconstruction:"
   ]
  },
  {
   "cell_type": "code",
   "execution_count": null,
   "id": "fatty-nutrition",
   "metadata": {},
   "outputs": [],
   "source": [
    "recon15 = FBP(ig, data15.geometry, device='gpu')(data15)"
   ]
  },
  {
   "cell_type": "markdown",
   "id": "small-offense",
   "metadata": {},
   "source": [
    "We show the same horizontal and vertical slices now showing big artifacts from having fewer projections:"
   ]
  },
  {
   "cell_type": "code",
   "execution_count": null,
   "id": "empty-ontario",
   "metadata": {},
   "outputs": [],
   "source": [
    "show2D(recon15.get_slice(horizontal_x=44), cmap='inferno', fix_range=(-0.01,0.11), origin='upper-left')\n",
    "show2D(recon15.get_slice(vertical=103)   , cmap='inferno', fix_range=(-0.01,0.11), origin='upper-left')"
   ]
  },
  {
   "cell_type": "code",
   "execution_count": null,
   "id": "aquatic-eligibility",
   "metadata": {},
   "outputs": [],
   "source": []
  }
 ],
 "metadata": {
  "kernelspec": {
   "display_name": "Python [conda env:ciljj21dev]",
   "language": "python",
   "name": "conda-env-ciljj21dev-py"
  },
  "language_info": {
   "codemirror_mode": {
    "name": "ipython",
    "version": 3
   },
   "file_extension": ".py",
   "mimetype": "text/x-python",
   "name": "python",
   "nbconvert_exporter": "python",
   "pygments_lexer": "ipython3",
   "version": "3.7.9"
  }
 },
 "nbformat": 4,
 "nbformat_minor": 5
}
