{
 "cells": [
  {
   "cell_type": "markdown",
   "metadata": {},
   "source": [
    "# Sandstone 2D parallel-beam data reconstruction demo\n",
    "\n"
   ]
  },
  {
   "cell_type": "code",
   "execution_count": null,
   "metadata": {},
   "outputs": [],
   "source": [
    "# Import all CIL components needed\n",
    "from cil.framework import ImageData, ImageGeometry\n",
    "from cil.framework import AcquisitionGeometry, AcquisitionData\n",
    "\n",
    "# CIL Processors\n",
    "from cil.processors import CentreOfRotationCorrector, Slicer, TransmissionAbsorptionConverter, Normaliser #, Padder\n",
    "\n",
    "from cil.utilities.display import show2D, show_geometry\n",
    "\n",
    "# Import from cil.plugins.astra\n",
    "from cil.plugins.astra.processors import FBP\n",
    "from cil.plugins.astra.operators import ProjectionOperator\n",
    "\n",
    "# All external imports\n",
    "import numpy as np\n",
    "import matplotlib.pyplot as plt\n",
    "import scipy.io"
   ]
  },
  {
   "cell_type": "code",
   "execution_count": null,
   "metadata": {},
   "outputs": [],
   "source": [
    "import logging\n",
    "logging.basicConfig(level = logging.INFO)"
   ]
  },
  {
   "cell_type": "markdown",
   "metadata": {},
   "source": [
    "Load demo data set and display the first raw projection"
   ]
  },
  {
   "cell_type": "code",
   "execution_count": null,
   "metadata": {},
   "outputs": [],
   "source": [
    "#all_data = scipy.io.loadmat(\"/media/newhd/shared/Data/synchrotron/small/slice_0270_data.mat\")\n",
    "#all_data = scipy.io.loadmat(\"/media/newhd/shared/Data/synchrotron/small/slice_0540_data.mat\")\n",
    "all_data = scipy.io.loadmat(\"/media/newhd/shared/Data/synchrotron/small/slice_0810_data.mat\")\n",
    "#all_data = scipy.io.loadmat(\"/media/newhd/shared/Data/synchrotron/small/slice_1080_data.mat\")"
   ]
  },
  {
   "cell_type": "code",
   "execution_count": null,
   "metadata": {},
   "outputs": [],
   "source": [
    "darks = all_data['X_dark']\n",
    "flats = all_data['X_flat']\n",
    "projs = all_data['X_proj']\n",
    "projs.shape"
   ]
  },
  {
   "cell_type": "code",
   "execution_count": null,
   "metadata": {},
   "outputs": [],
   "source": [
    "ag = AcquisitionGeometry.create_Parallel2D()  \\\n",
    "         .set_panel(num_pixels=(2560))        \\\n",
    "         .set_angles(angles=np.linspace(0,180,1500,endpoint=False))"
   ]
  },
  {
   "cell_type": "code",
   "execution_count": null,
   "metadata": {},
   "outputs": [],
   "source": [
    "data = AcquisitionData(np.transpose(projs),False,geometry=ag)"
   ]
  },
  {
   "cell_type": "code",
   "execution_count": null,
   "metadata": {},
   "outputs": [],
   "source": [
    "data2 = Normaliser(flat_field=flats.mean(axis=1),dark_field=darks.mean(axis=1))(data)"
   ]
  },
  {
   "cell_type": "code",
   "execution_count": null,
   "metadata": {},
   "outputs": [],
   "source": [
    "show2D(data2)"
   ]
  },
  {
   "cell_type": "markdown",
   "metadata": {},
   "source": [
    "Pad on both sides for region-of-interest correction"
   ]
  },
  {
   "cell_type": "code",
   "execution_count": null,
   "metadata": {},
   "outputs": [],
   "source": [
    "padsize = 600\n",
    "projs2pad = np.pad(data2.as_array(),((0,0),(padsize,padsize)),'edge')\n",
    "projs2pad.shape"
   ]
  },
  {
   "cell_type": "code",
   "execution_count": null,
   "metadata": {},
   "outputs": [],
   "source": [
    "plt.imshow(projs2pad)"
   ]
  },
  {
   "cell_type": "code",
   "execution_count": null,
   "metadata": {},
   "outputs": [],
   "source": [
    "ag = AcquisitionGeometry.create_Parallel2D()  \\\n",
    "         .set_panel(num_pixels=(2560+0+2*padsize))        \\\n",
    "         .set_angles(angles=np.linspace(0,180, 1500, endpoint=False))"
   ]
  },
  {
   "cell_type": "code",
   "execution_count": null,
   "metadata": {},
   "outputs": [],
   "source": [
    "data = AcquisitionData(projs2pad,False,geometry=ag)"
   ]
  },
  {
   "cell_type": "code",
   "execution_count": null,
   "metadata": {},
   "outputs": [],
   "source": [
    "show2D(data)"
   ]
  },
  {
   "cell_type": "code",
   "execution_count": null,
   "metadata": {},
   "outputs": [],
   "source": [
    "data2 = TransmissionAbsorptionConverter()(data)"
   ]
  },
  {
   "cell_type": "code",
   "execution_count": null,
   "metadata": {},
   "outputs": [],
   "source": [
    "show2D(data2)"
   ]
  },
  {
   "cell_type": "code",
   "execution_count": null,
   "metadata": {},
   "outputs": [],
   "source": []
  },
  {
   "cell_type": "code",
   "execution_count": null,
   "metadata": {},
   "outputs": [],
   "source": [
    "data3 = CentreOfRotationCorrector.image_sharpness(FBP=FBP,search_range=100, tolerance=0.1)(data2)"
   ]
  },
  {
   "cell_type": "code",
   "execution_count": null,
   "metadata": {},
   "outputs": [],
   "source": [
    "ig = data3.geometry.get_ImageGeometry()"
   ]
  },
  {
   "cell_type": "code",
   "execution_count": null,
   "metadata": {},
   "outputs": [],
   "source": [
    "show_geometry(data3.geometry)"
   ]
  },
  {
   "cell_type": "code",
   "execution_count": null,
   "metadata": {},
   "outputs": [],
   "source": [
    "ig.voxel_num_x = 2560\n",
    "ig.voxel_num_y = 2560\n",
    "print(ig)"
   ]
  },
  {
   "cell_type": "code",
   "execution_count": null,
   "metadata": {},
   "outputs": [],
   "source": [
    "fbp = FBP(ig,data3.geometry,device='gpu')"
   ]
  },
  {
   "cell_type": "code",
   "execution_count": null,
   "metadata": {},
   "outputs": [],
   "source": [
    "rec1 = fbp(data3)"
   ]
  },
  {
   "cell_type": "code",
   "execution_count": null,
   "metadata": {},
   "outputs": [],
   "source": [
    "show2D(rec1)"
   ]
  },
  {
   "cell_type": "markdown",
   "metadata": {},
   "source": [
    "Load and plot the reconstruction provided from the synchrotron (rotate to match our orientation)"
   ]
  },
  {
   "cell_type": "code",
   "execution_count": null,
   "metadata": {},
   "outputs": [],
   "source": [
    "#vendor_recon = plt.imread(\"/media/newhd/shared/Data/synchrotron/small/recon/BBii_0270.rec.16bit.tif\")\n",
    "#vendor_recon = plt.imread(\"/media/newhd/shared/Data/synchrotron/small/recon/BBii_0540.rec.16bit.tif\")\n",
    "vendor_recon = plt.imread(\"/media/newhd/shared/Data/synchrotron/small/recon/BBii_0810.rec.16bit.tif\")\n",
    "#vendor_recon = plt.imread(\"/media/newhd/shared/Data/synchrotron/small/recon/BBii_1080.rec.16bit.tif\")"
   ]
  },
  {
   "cell_type": "code",
   "execution_count": null,
   "metadata": {},
   "outputs": [],
   "source": [
    "show2D(np.rot90(vendor_recon))"
   ]
  },
  {
   "cell_type": "code",
   "execution_count": null,
   "metadata": {},
   "outputs": [],
   "source": []
  },
  {
   "cell_type": "code",
   "execution_count": null,
   "metadata": {},
   "outputs": [],
   "source": []
  }
 ],
 "metadata": {
  "kernelspec": {
   "display_name": "Python [conda env:ciljj21dev] *",
   "language": "python",
   "name": "conda-env-ciljj21dev-py"
  },
  "language_info": {
   "codemirror_mode": {
    "name": "ipython",
    "version": 3
   },
   "file_extension": ".py",
   "mimetype": "text/x-python",
   "name": "python",
   "nbconvert_exporter": "python",
   "pygments_lexer": "ipython3",
   "version": "3.7.9"
  }
 },
 "nbformat": 4,
 "nbformat_minor": 4
}
